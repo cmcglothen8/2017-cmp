{
 "cells": [
  {
   "cell_type": "code",
   "execution_count": 5,
   "metadata": {},
   "outputs": [
    {
     "name": "stdout",
     "output_type": "stream",
     "text": [
      "[[-2.62628722207557, -3.461788876775117, -1.3922007776692125, -1.3098243566800605, -3.9050997053061467, 1.925981140101507, 1.2229850970170872, 3.478014717484208, 1.4740694438177506]]\n",
      "-2.999999999999981\n",
      "[-2.3519649  -2.72242611 -2.40588601 -0.81510315 -1.70242806 -0.77141304\n",
      "  2.62482124  2.04574086  1.50450668]\n"
     ]
    }
   ],
   "source": [
    "import numpy as np\n",
    "import matplotlib.pyplot as plt\n",
    "\n",
    "xmin, xmax = -3, 3\n",
    "ymin, ymax = -4,4\n",
    "zmin, zmax =-2, 2\n",
    "\n",
    "def LJ(r):\n",
    "    r6 = r**6\n",
    "    r12 = r6*r6\n",
    "    return 4*(1/r12 - 1/r6)\n",
    "\n",
    "\n",
    "#calculate r values\n",
    "#dist_01= np.sqrt((x[1] - x[0])**2 + (x[4]-x[3])**2 + (x[7]- x[6])**2)\n",
    "#dist_12= np.sqrt((x[2] - x[1])**2 + (x[5]-x[4])**2 + (x[8]- x[7])**2)\n",
    "#dist_20= np.sqrt((x[2] - x[0])**2 + (x[5]-x[3])**2 + (x[8]- x[6])**2)\n",
    "\n",
    "\n",
    "#Calculate energies\n",
    "def total_energy(x):\n",
    "    pos[0] = x[0:3]    #x0, x1, x2\n",
    "    pos[1] = x[3:6]    #y0, y1, y2\n",
    "    pos[2] = x[6:]     #z0, z1, z2\n",
    "    #calculate r values\n",
    "    dist_01= np.sqrt((x[1] - x[0])**2 + (x[4]-x[3])**2 + (x[7]- x[6])**2)\n",
    "    dist_12= np.sqrt((x[2] - x[1])**2 + (x[5]-x[4])**2 + (x[8]- x[7])**2)\n",
    "    dist_20= np.sqrt((x[2] - x[0])**2 + (x[5]-x[3])**2 + (x[8]- x[6])**2)\n",
    "    E01 = LJ(dist_01)\n",
    "    E12 = LJ(dist_12)\n",
    "    E20 = LJ(dist_20)\n",
    "    return E01+E12+E20\n",
    "\n",
    "\n",
    "def init_pos(xmin=0, xmax=1, ymin=0, ymax=1, zmin=0, zmax=1): #random value\n",
    "    x0= xmin+np.random.random()*(xmax-xmin)\n",
    "    x1= xmin+np.random.random()*(xmax-xmin)\n",
    "    x2= xmin+np.random.random()*(xmax-xmin)\n",
    "    \n",
    "    y0= ymin+np.random.random()*(ymax-ymin)\n",
    "    y1= ymin+np.random.random()*(ymax-ymin)\n",
    "    y2= ymin+np.random.random()*(ymax-ymin)\n",
    "    \n",
    "    z0= zmin+np.random.random()*(zmax-zmin)\n",
    "    z1= zmin+np.random.random()*(zmax-zmin)\n",
    "    z2= zmin+np.random.random()*(zmax-zmin)\n",
    "    \n",
    "    return [x0, y0, z0, x1, y1, z1, x2, y2, z2]\n",
    "\n",
    "x = [init_pos(xmin, xmax, ymin, ymax, zmin, zmax)]\n",
    "\n",
    "\n",
    "print (x)\n",
    "pos = init_pos()\n",
    "\n",
    "from scipy.optimize import minimize\n",
    "\n",
    "res = minimize(total_energy, x, method='CG', tol=1e-4)\n",
    "print(res.fun)\n",
    "print(res.x)"
   ]
  },
  {
   "cell_type": "code",
   "execution_count": null,
   "metadata": {
    "collapsed": true
   },
   "outputs": [],
   "source": []
  }
 ],
 "metadata": {
  "kernelspec": {
   "display_name": "Python 3",
   "language": "python",
   "name": "python3"
  },
  "language_info": {
   "codemirror_mode": {
    "name": "ipython",
    "version": 3
   },
   "file_extension": ".py",
   "mimetype": "text/x-python",
   "name": "python",
   "nbconvert_exporter": "python",
   "pygments_lexer": "ipython3",
   "version": "3.6.1"
  }
 },
 "nbformat": 4,
 "nbformat_minor": 2
}
