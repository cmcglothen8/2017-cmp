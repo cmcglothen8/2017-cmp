{
 "cells": [
  {
   "cell_type": "code",
   "execution_count": 18,
   "metadata": {
    "scrolled": false
   },
   "outputs": [
    {
     "data": {
      "image/png": "[encoded data removed]",
      "text/plain": [
       "<matplotlib.figure.Figure at 0x17764b4beb8>"
      ]
     },
     "metadata": {},
     "output_type": "display_data"
    }
   ],
   "source": [
    "from vpython import *\n",
    "\n",
    "# init\n",
    "L1 = 101\n",
    "L2 = 101\n",
    "N = 1000\n",
    "\n",
    "position = np.empty([N,2])\n",
    "position[0,0] = int(L1/2)\n",
    "position[0,1] = int(L2/2)\n",
    "direction = np.array([[0,1],[0,-1],[1,0],[-1,0]])\n",
    "\n",
    "# random walk\n",
    "for i in range(1,N):\n",
    "    position1 = [-1,-1]\n",
    "    \n",
    "    while min(position1)<0 or position1[0] >L1 or position1[1] >L2:\n",
    "        move = np.random.randint(len(direction))\n",
    "        position1 = position[i-1,:] + direction[move]\n",
    "        \n",
    "    position[i,:] = position1\n",
    "    \n",
    "plt.xlim(0,101)\n",
    "plt.ylim(0,101)\n",
    "plt.title('Brownian motion')\n",
    "plt.plot(position[:,0], position[:,1], '-o')        \n",
    "plt.show()"
   ]
  },
  {
   "cell_type": "code",
   "execution_count": 37,
   "metadata": {},
   "outputs": [
    {
     "data": {
      "image/png": "[encoded data removed]",
      "text/plain": [
       "<matplotlib.figure.Figure at 0x17764b89eb8>"
      ]
     },
     "metadata": {},
     "output_type": "display_data"
    }
   ],
   "source": [
    "import numpy as np\n",
    "import matplotlib.pyplot as plt\n",
    "\n",
    "\n",
    "# Initial parameters\n",
    "NTl = 1000\n",
    "NPb = 0\n",
    "tau = 3.053*60 #converting to seconds \n",
    "dt = 1 \n",
    "p = 1 - 2**(-dt/tau) #probability \n",
    "tmax = 100\n",
    "\n",
    "t_points = np.arange(0.0, tmax, dt)\n",
    "Tl = []\n",
    "Pb = []\n",
    "\n",
    "plt.plot(t_points, \"o\", label='Tl')\n",
    "plt.plot(t_points, \"o\", label='Pb')\n",
    "plt.xlabel(\"Time\")\n",
    "plt.ylabel(\"Number of atoms\")\n",
    "plt.legend()\n",
    "plt.show()"
   ]
  },
  {
   "cell_type": "code",
   "execution_count": null,
   "metadata": {
    "collapsed": true
   },
   "outputs": [],
   "source": []
  }
 ],
 "metadata": {
  "kernelspec": {
   "display_name": "Python 3",
   "language": "python",
   "name": "python3"
  },
  "language_info": {
   "codemirror_mode": {
    "name": "ipython",
    "version": 3
   },
   "file_extension": ".py",
   "mimetype": "text/x-python",
   "name": "python",
   "nbconvert_exporter": "python",
   "pygments_lexer": "ipython3",
   "version": "3.6.1"
  }
 },
 "nbformat": 4,
 "nbformat_minor": 2
}
