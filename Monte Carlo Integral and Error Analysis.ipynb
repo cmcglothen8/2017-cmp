{
 "cells": [
  {
   "cell_type": "code",
   "execution_count": 42,
   "metadata": {},
   "outputs": [
    {
     "data": {
      "image/png": "[encoded data removed]",
      "text/plain": [
       "<matplotlib.figure.Figure at 0x1d1f120da20>"
      ]
     },
     "metadata": {},
     "output_type": "display_data"
    },
    {
     "data": {
      "text/plain": [
       "1.7840996317889752"
      ]
     },
     "execution_count": 42,
     "metadata": {},
     "output_type": "execute_result"
    }
   ],
   "source": [
    "import matplotlib.pyplot as plt\n",
    "import numpy as np\n",
    "\n",
    "fig1 = plt.figure()\n",
    "ax1 = fig1.add_subplot(111, aspect='equal')\n",
    "\n",
    "x1 = np.linspace(0,2,100)\n",
    "y1 = np.sqrt(1-(x1-1)**2)\n",
    "ax1.plot(x1,y1,'k')\n",
    "\n",
    "y2 = 2-np.sqrt(4-x1**2)\n",
    "ax1.plot(x1,y2,'k')\n",
    "\n",
    "ax1.set_xlim(0,2)\n",
    "ax1.set_ylim(0,2)\n",
    "ax1.fill_between(x1, y1, y2, where=y1>y2, facecolor='green')\n",
    "\n",
    "plt.show()\n",
    "\n",
    "def Area(d, R, r):\n",
    "    \n",
    "    if d <= abs(R-r):\n",
    "        return np.pi*min(R, r)**2\n",
    "    if d >= r+R:\n",
    "        return 0\n",
    "    \n",
    "    alpha = np.arccos((d**2+r**2-R**2)/ (2*d*r))\n",
    "    beta = np.arccos ((d**2+R**2-r**2)/ (2*d*R))\n",
    "    return(r**2*alpha+R**2*beta - 0.5*(r**2*np.sin(2*alpha) - R**2*np.sin(2*beta)))\n",
    "\n",
    "Area(1.5, 1.25, 0.75)"
   ]
  },
  {
   "cell_type": "code",
   "execution_count": null,
   "metadata": {
    "collapsed": true
   },
   "outputs": [],
   "source": []
  },
  {
   "cell_type": "code",
   "execution_count": 5,
   "metadata": {
    "collapsed": true
   },
   "outputs": [],
   "source": [
    "import matplotlib.pyplot as plt\n",
    "from math import sin\n",
    "from random import random\n",
    "\n",
    "def f(x):\n",
    "    return sin(1/x/(2-x))**2\n",
    "\n",
    "def MC(N):\n",
    "    count = 0\n",
    "    for i in range(N):\n",
    "        x = 100*random()\n",
    "        y = random()\n",
    "        if y<f(x):\n",
    "            count += 1\n",
    "    I = 100*count/N\n",
    "    return I"
   ]
  },
  {
   "cell_type": "code",
   "execution_count": 6,
   "metadata": {},
   "outputs": [
    {
     "name": "stdout",
     "output_type": "stream",
     "text": [
      "1.0\n",
      "2.2\n",
      "1.97\n",
      "1.937\n"
     ]
    }
   ],
   "source": [
    "print(MC(100))\n",
    "print(MC(1000))\n",
    "print(MC(10000))\n",
    "print(MC(100000))"
   ]
  },
  {
   "cell_type": "code",
   "execution_count": 27,
   "metadata": {},
   "outputs": [
    {
     "data": {
      "text/plain": [
       "0.45975720494626299"
      ]
     },
     "execution_count": 27,
     "metadata": {},
     "output_type": "execute_result"
    }
   ],
   "source": [
    "import numpy as np\n",
    "\n",
    "data = [1.0, 2.2, 1.97, 1.937]\n",
    "\n",
    "np.std(data)"
   ]
  },
  {
   "cell_type": "code",
   "execution_count": 26,
   "metadata": {},
   "outputs": [
    {
     "data": {
      "text/plain": [
       "0.21137668750000005"
      ]
     },
     "execution_count": 26,
     "metadata": {},
     "output_type": "execute_result"
    }
   ],
   "source": [
    "import numpy as np\n",
    "\n",
    "data = [1.0, 2.2, 1.97, 1.937]\n",
    "\n",
    "np.var(data)"
   ]
  },
  {
   "cell_type": "code",
   "execution_count": null,
   "metadata": {
    "collapsed": true
   },
   "outputs": [],
   "source": []
  }
 ],
 "metadata": {
  "kernelspec": {
   "display_name": "Python 3",
   "language": "python",
   "name": "python3"
  },
  "language_info": {
   "codemirror_mode": {
    "name": "ipython",
    "version": 3
   },
   "file_extension": ".py",
   "mimetype": "text/x-python",
   "name": "python",
   "nbconvert_exporter": "python",
   "pygments_lexer": "ipython3",
   "version": "3.6.1"
  }
 },
 "nbformat": 4,
 "nbformat_minor": 2
}
