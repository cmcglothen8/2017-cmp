{
 "cells": [
  {
   "cell_type": "code",
   "execution_count": 6,
   "metadata": {
    "scrolled": true
   },
   "outputs": [
    {
     "name": "stdout",
     "output_type": "stream",
     "text": [
      "0.00148794340714\n"
     ]
    }
   ],
   "source": [
    "import numpy as np\n",
    "import matplotlib.pyplot as plt\n",
    "\n",
    "x_min, x_max = -5, 5                         \n",
    "y_min, y_max = -5, 5 \n",
    "\n",
    "def f1(N):\n",
    "  \n",
    "    for i in range(N):\n",
    "        xx = x_min + np.random.random() * (x_max-x_min)\n",
    "        yy = y_min + np.random.random() * (y_max-y_min)\n",
    "    \n",
    "def f(x,y):\n",
    "    return 1/2*x**2 + 1/3*y**2 - 1/4*x*y\n",
    "\n",
    "nx = np.linspace(x_min,x_max,100)\n",
    "ny = np.linspace(y_min,y_max,100)\n",
    "\n",
    "values = []\n",
    "for xx in nx:\n",
    "    for yy in ny:\n",
    "        values.append( f(xx, yy) )\n",
    "\n",
    "print(np.min(values))"
   ]
  },
  {
   "cell_type": "code",
   "execution_count": 19,
   "metadata": {},
   "outputs": [
    {
     "name": "stdout",
     "output_type": "stream",
     "text": [
      "Optimization terminated successfully.\n",
      "         Current function value: 0.000000\n",
      "         Iterations: 3\n",
      "         Function evaluations: 66\n"
     ]
    }
   ],
   "source": [
    "from scipy.optimize import minimize\n",
    "import numpy as np\n",
    "import matplotlib.pyplot as plt\n",
    "\n",
    "\n",
    "def f(x):\n",
    "    return x[0]**2/2 + x[1]**2/3 - x[0]*x[1]/4\n",
    "\n",
    "def init(x_min, x_max, y_min, y_max):\n",
    "    xx = x_min + np.random.random() * (x_max-x_min)\n",
    "    yy = y_min + np.random.random() * (y_max-y_min)\n",
    "    return [xx,yy]\n",
    "    \n",
    "x_min, x_max = -5, 5                         \n",
    "y_min, y_max = -5, 5 \n",
    "\n",
    "nx = np.linspace(x_min,x_max,100)\n",
    "ny = np.linspace(y_min,y_max,100)\n",
    "\n",
    "[xx,yy] = init(x_min, x_max, y_min, y_max)\n",
    "res = minimize(f, [xx,yy], method='powell', tol=1e-4, options={'disp': True})"
   ]
  },
  {
   "cell_type": "code",
   "execution_count": null,
   "metadata": {
    "collapsed": true
   },
   "outputs": [],
   "source": []
  }
 ],
 "metadata": {
  "kernelspec": {
   "display_name": "Python 3",
   "language": "python",
   "name": "python3"
  },
  "language_info": {
   "codemirror_mode": {
    "name": "ipython",
    "version": 3
   },
   "file_extension": ".py",
   "mimetype": "text/x-python",
   "name": "python",
   "nbconvert_exporter": "python",
   "pygments_lexer": "ipython3",
   "version": "3.6.1"
  }
 },
 "nbformat": 4,
 "nbformat_minor": 2
}
