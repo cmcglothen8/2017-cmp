{
 "cells": [
  {
   "cell_type": "code",
   "execution_count": 7,
   "metadata": {},
   "outputs": [
    {
     "name": "stdout",
     "output_type": "stream",
     "text": [
      "[4 5]\n",
      "Probability =  0.027925\n"
     ]
    }
   ],
   "source": [
    "from random import randint\n",
    "import numpy as np\n",
    "\n",
    "np.random.seed(1)\n",
    "a=np.random.randint(1,6,2)\n",
    "print(a)\n",
    "\n",
    "N = 1000000\n",
    "count = 0\n",
    "for i in range(N):\n",
    "    a = randint(1,6)\n",
    "    b = randint(1,6)\n",
    "    if a==6 and b==6:\n",
    "        count+=1\n",
    "\n",
    "p = count/N\n",
    "print('Probability = ', p)"
   ]
  },
  {
   "cell_type": "code",
   "execution_count": 17,
   "metadata": {},
   "outputs": [
    {
     "data": {
      "image/png": "[encoded data removed]",
      "text/plain": [
       "<matplotlib.figure.Figure at 0x2b50623ff60>"
      ]
     },
     "metadata": {},
     "output_type": "display_data"
    },
    {
     "data": {
      "image/png": "[encoded data removed]",
      "text/plain": [
       "<matplotlib.figure.Figure at 0x2b506326e80>"
      ]
     },
     "metadata": {},
     "output_type": "display_data"
    }
   ],
   "source": [
    "import matplotlib.pyplot as plt\n",
    "\n",
    "N = 100\n",
    "a = 876\n",
    "c = 356\n",
    "m = 79\n",
    "x = 1\n",
    "results = []\n",
    "\n",
    "for i in range(N):\n",
    "    x = (a*x+c)%m\n",
    "    results.append(x)\n",
    "plt.plot(results,\"o\")\n",
    "plt.show()\n",
    "\n",
    "plt.hist(results)\n",
    "plt.show()"
   ]
  },
  {
   "cell_type": "code",
   "execution_count": null,
   "metadata": {
    "collapsed": true
   },
   "outputs": [],
   "source": []
  }
 ],
 "metadata": {
  "kernelspec": {
   "display_name": "Python 3",
   "language": "python",
   "name": "python3"
  },
  "language_info": {
   "codemirror_mode": {
    "name": "ipython",
    "version": 3
   },
   "file_extension": ".py",
   "mimetype": "text/x-python",
   "name": "python",
   "nbconvert_exporter": "python",
   "pygments_lexer": "ipython3",
   "version": "3.6.1"
  }
 },
 "nbformat": 4,
 "nbformat_minor": 2
}
