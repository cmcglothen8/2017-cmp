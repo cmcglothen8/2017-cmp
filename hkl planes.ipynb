{
 "cells": [
  {
   "cell_type": "code",
   "execution_count": 13,
   "metadata": {},
   "outputs": [
    {
     "name": "stdout",
     "output_type": "stream",
     "text": [
      "388\n"
     ]
    }
   ],
   "source": [
    "from math import sqrt\n",
    "\n",
    "def dhkl(a, wavelength):\n",
    "\n",
    "    dmin = wavelength/2\n",
    "    hkllist =[]\n",
    "    dhkl = []\n",
    "    h1 = int(a/dmin)\n",
    "\n",
    "    for h in range(-h1,h1+1):\n",
    "        for k in range(-h1,h1+1):\n",
    "            for l in range(-h1,h1+1):\n",
    "                sum_d = sqrt(h**2+k**2+l**2)\n",
    "                if sum_d > 0 and a/sum_d > dmin:\n",
    "                    dhkl.append(a/sum_d)\n",
    "                    hkllist.append([h,k,l])\n",
    "\n",
    "    return hkllist\n",
    "\n",
    "hkllist = dhkl(3.5, 1.5487)\n",
    "print(len(hkllist))   "
   ]
  },
  {
   "cell_type": "code",
   "execution_count": null,
   "metadata": {
    "collapsed": true
   },
   "outputs": [],
   "source": []
  }
 ],
 "metadata": {
  "kernelspec": {
   "display_name": "Python 3",
   "language": "python",
   "name": "python3"
  },
  "language_info": {
   "codemirror_mode": {
    "name": "ipython",
    "version": 3
   },
   "file_extension": ".py",
   "mimetype": "text/x-python",
   "name": "python",
   "nbconvert_exporter": "python",
   "pygments_lexer": "ipython3",
   "version": "3.6.1"
  }
 },
 "nbformat": 4,
 "nbformat_minor": 2
}
