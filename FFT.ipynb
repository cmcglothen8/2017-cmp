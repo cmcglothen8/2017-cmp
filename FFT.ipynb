{
 "cells": [
  {
   "cell_type": "code",
   "execution_count": 29,
   "metadata": {},
   "outputs": [
    {
     "name": "stdout",
     "output_type": "stream",
     "text": [
      "True\n",
      "True\n"
     ]
    }
   ],
   "source": [
    "import numpy as np\n",
    "\n",
    "def dft1(y):\n",
    "    \n",
    "    N = len(y)\n",
    "    c = np.zeros(N, complex)\n",
    "    for k in range(N):\n",
    "        for n in range(N):\n",
    "            c[k] += y[n]*np.exp(-2j*np.pi*k*n/N)\n",
    "    return c\n",
    "\n",
    "def dft2(y):\n",
    "    \n",
    "    x = np.asarray(y, dtype=float)\n",
    "    N = y.shape[0]\n",
    "    n = np.arange(N)\n",
    "    k = n.reshape((N,1))\n",
    "    M = np.exp(-2j * np.pi *k * n/N)\n",
    "    return np.dot(M,x)\n",
    "\n",
    "def fft1(x):\n",
    "    \n",
    "    x = np.asarray(x, dtype=float)\n",
    "    N = x.shape[0]\n",
    "    \n",
    "    if N % 2 > 0:\n",
    "        raise ValueError(\"size of x must be a power of 2\")\n",
    "    elif N <= 16:  \n",
    "        return dft2(x)\n",
    "    else:\n",
    "        X_even = fft1(x[::2])\n",
    "        X_odd = fft1(x[1::2])\n",
    "        factor = np.exp(-2j * np.pi * np.arange(N) / N)\n",
    "        return np.concatenate([X_even + factor[:int(N/2)] * X_odd,\n",
    "                               X_even + factor[int(N/2):] * X_odd])\n",
    "\n",
    "    \n",
    "x = np.random.random(1024)\n",
    "print(np.allclose(dft1(x), dft2(x)))\n",
    "print(np.allclose(fft1(x), np.fft.fft(x)))\n"
   ]
  },
  {
   "cell_type": "code",
   "execution_count": 30,
   "metadata": {},
   "outputs": [
    {
     "name": "stdout",
     "output_type": "stream",
     "text": [
      "349 ms ± 1.06 ms per loop (mean ± std. dev. of 7 runs, 1 loop each)\n",
      "3.31 s ± 128 ms per loop (mean ± std. dev. of 7 runs, 1 loop each)\n",
      "16.9 s ± 1.24 s per loop (mean ± std. dev. of 7 runs, 1 loop each)\n",
      "7.54 ms ± 387 µs per loop (mean ± std. dev. of 7 runs, 100 loops each)\n",
      "65.8 ms ± 1.06 ms per loop (mean ± std. dev. of 7 runs, 10 loops each)\n",
      "326 ms ± 6.51 ms per loop (mean ± std. dev. of 7 runs, 1 loop each)\n",
      "16.5 s ± 186 ms per loop (mean ± std. dev. of 7 runs, 1 loop each)\n",
      "347 ms ± 5.44 ms per loop (mean ± std. dev. of 7 runs, 1 loop each)\n",
      "6.06 ms ± 22.7 µs per loop (mean ± std. dev. of 7 runs, 100 loops each)\n",
      "39.1 µs ± 109 ns per loop (mean ± std. dev. of 7 runs, 10000 loops each)\n"
     ]
    }
   ],
   "source": [
    "%timeit dft1(np.random.random(300))\n",
    "%timeit dft1(np.random.random(900))\n",
    "%timeit dft1(np.random.random(2000))\n",
    "%timeit dft2(np.random.random(300))\n",
    "%timeit dft2(np.random.random(900))\n",
    "%timeit dft2(np.random.random(2000))\n",
    "x = np.random.random(2048)\n",
    "\n",
    "%timeit dft1(x)\n",
    "%timeit dft2(x)\n",
    "%timeit fft1(x)\n",
    "%timeit np.fft.fft(x)"
   ]
  },
  {
   "cell_type": "code",
   "execution_count": null,
   "metadata": {
    "collapsed": true
   },
   "outputs": [],
   "source": []
  }
 ],
 "metadata": {
  "kernelspec": {
   "display_name": "Python 3",
   "language": "python",
   "name": "python3"
  },
  "language_info": {
   "codemirror_mode": {
    "name": "ipython",
    "version": 3
   },
   "file_extension": ".py",
   "mimetype": "text/x-python",
   "name": "python",
   "nbconvert_exporter": "python",
   "pygments_lexer": "ipython3",
   "version": "3.6.1"
  }
 },
 "nbformat": 4,
 "nbformat_minor": 2
}
