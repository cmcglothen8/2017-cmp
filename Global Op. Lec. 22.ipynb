{
 "cells": [
  {
   "cell_type": "code",
   "execution_count": 9,
   "metadata": {},
   "outputs": [
    {
     "name": "stdout",
     "output_type": "stream",
     "text": [
      "[-2.18319108 -1.11575427 -0.1851236  -1.30436637 -0.49666575 -0.50810011\n",
      " -1.87113354 -0.22456171  0.42176725 -1.22887772 -1.14497225  0.40509241]\n",
      "-5.99999999973\n"
     ]
    }
   ],
   "source": [
    "import numpy as np\n",
    "from scipy.optimize import differential_evolution\n",
    "\n",
    "def LJ(r):\n",
    "    r6 = r**6\n",
    "    r12 = r6*r6\n",
    "    return 4*(1/r12 - 1/r6)\n",
    "\n",
    "def total_energy(positions):\n",
    "    E = 0\n",
    "    N_atom = int(len(positions)/3)\n",
    "\n",
    "    for i in range(N_atom-1):\n",
    "        for j in range(i+1, N_atom):\n",
    "            pos1 = positions[i*3:(i+1)*3]\n",
    "            pos2 = positions[j*3:(j+1)*3]\n",
    "            dist = np.linalg.norm(pos1-pos2)\n",
    "            E += LJ(dist)\n",
    "    return E\n",
    "            \n",
    "def init_pos(N, L=5):\n",
    "    return L*np.random.random_sample((N*3,))\n",
    "\n",
    "N=0\n",
    "pos = init_pos(N)\n",
    "total_energy(pos)\n",
    "\n",
    "bounds = [(-3,3),(-3,3),(-3,3)]*4\n",
    "\n",
    "result = differential_evolution(total_energy, bounds)\n",
    "print(result.x)\n",
    "print(result.fun)"
   ]
  },
  {
   "cell_type": "code",
   "execution_count": null,
   "metadata": {
    "collapsed": true
   },
   "outputs": [],
   "source": []
  }
 ],
 "metadata": {
  "kernelspec": {
   "display_name": "Python 3",
   "language": "python",
   "name": "python3"
  },
  "language_info": {
   "codemirror_mode": {
    "name": "ipython",
    "version": 3
   },
   "file_extension": ".py",
   "mimetype": "text/x-python",
   "name": "python",
   "nbconvert_exporter": "python",
   "pygments_lexer": "ipython3",
   "version": "3.6.1"
  }
 },
 "nbformat": 4,
 "nbformat_minor": 2
}
